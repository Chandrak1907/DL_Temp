{
 "cells": [
  {
   "cell_type": "markdown",
   "metadata": {},
   "source": [
    "# Embeddings\n",
    "\n",
    "https://www.youtube.com/watch?v=wSXGlvTR9UM"
   ]
  },
  {
   "cell_type": "code",
   "execution_count": 1,
   "metadata": {},
   "outputs": [
    {
     "data": {
      "text/html": [
       "<iframe width=\"560\" height=\"315\" src=\"https://www.youtube.com/embed/wSXGlvTR9UM?rel=0&amp;controls=0&amp;showinfo=0\" frameborder=\"0\" allowfullscreen></iframe>"
      ],
      "text/plain": [
       "<IPython.core.display.HTML object>"
      ]
     },
     "execution_count": 1,
     "metadata": {},
     "output_type": "execute_result"
    }
   ],
   "source": [
    "from IPython.display import HTML\n",
    "\n",
    "HTML('<iframe width=\"560\" height=\"315\" src=\"https://www.youtube.com/embed/wSXGlvTR9UM?rel=0&amp;controls=0&amp;showinfo=0\" frameborder=\"0\" allowfullscreen></iframe>')\n",
    "\n"
   ]
  },
  {
   "cell_type": "code",
   "execution_count": 2,
   "metadata": {
    "ExecuteTime": {
     "end_time": "2018-07-24T23:17:54.875170Z",
     "start_time": "2018-07-24T23:17:52.506565Z"
    }
   },
   "outputs": [
    {
     "name": "stderr",
     "output_type": "stream",
     "text": [
      "Using TensorFlow backend.\n",
      "/Users/home/anaconda3/envs/ML/lib/python3.5/importlib/_bootstrap.py:222: RuntimeWarning: compiletime version 3.6 of module 'tensorflow.python.framework.fast_tensor_util' does not match runtime version 3.5\n",
      "  return f(*args, **kwds)\n"
     ]
    }
   ],
   "source": [
    "import pandas as pd\n",
    "import numpy as np\n",
    "\n",
    "from keras.models import Sequential\n",
    "from keras.layers import Dense, Activation, Embedding, Merge, Flatten\n",
    "\n",
    "from sklearn.model_selection import train_test_split\n",
    "from sklearn.preprocessing import StandardScaler\n",
    "\n",
    "import matplotlib.pyplot as plt\n",
    "%matplotlib inline"
   ]
  },
  {
   "cell_type": "code",
   "execution_count": 3,
   "metadata": {
    "ExecuteTime": {
     "end_time": "2018-07-24T23:17:55.263591Z",
     "start_time": "2018-07-24T23:17:55.189457Z"
    }
   },
   "outputs": [
    {
     "data": {
      "text/html": [
       "<div>\n",
       "<style scoped>\n",
       "    .dataframe tbody tr th:only-of-type {\n",
       "        vertical-align: middle;\n",
       "    }\n",
       "\n",
       "    .dataframe tbody tr th {\n",
       "        vertical-align: top;\n",
       "    }\n",
       "\n",
       "    .dataframe thead th {\n",
       "        text-align: right;\n",
       "    }\n",
       "</style>\n",
       "<table border=\"1\" class=\"dataframe\">\n",
       "  <thead>\n",
       "    <tr style=\"text-align: right;\">\n",
       "      <th></th>\n",
       "      <th>Age</th>\n",
       "      <th>Education</th>\n",
       "      <th>H_education</th>\n",
       "      <th>num_child</th>\n",
       "      <th>Religion</th>\n",
       "      <th>Employ</th>\n",
       "      <th>H_occupation</th>\n",
       "      <th>living_standard</th>\n",
       "      <th>Media_exposure</th>\n",
       "      <th>contraceptive</th>\n",
       "    </tr>\n",
       "  </thead>\n",
       "  <tbody>\n",
       "    <tr>\n",
       "      <th>0</th>\n",
       "      <td>24</td>\n",
       "      <td>2</td>\n",
       "      <td>3</td>\n",
       "      <td>3</td>\n",
       "      <td>1</td>\n",
       "      <td>1</td>\n",
       "      <td>2</td>\n",
       "      <td>3</td>\n",
       "      <td>0</td>\n",
       "      <td>1</td>\n",
       "    </tr>\n",
       "    <tr>\n",
       "      <th>1</th>\n",
       "      <td>45</td>\n",
       "      <td>1</td>\n",
       "      <td>3</td>\n",
       "      <td>10</td>\n",
       "      <td>1</td>\n",
       "      <td>1</td>\n",
       "      <td>3</td>\n",
       "      <td>4</td>\n",
       "      <td>0</td>\n",
       "      <td>1</td>\n",
       "    </tr>\n",
       "    <tr>\n",
       "      <th>2</th>\n",
       "      <td>43</td>\n",
       "      <td>2</td>\n",
       "      <td>3</td>\n",
       "      <td>7</td>\n",
       "      <td>1</td>\n",
       "      <td>1</td>\n",
       "      <td>3</td>\n",
       "      <td>4</td>\n",
       "      <td>0</td>\n",
       "      <td>1</td>\n",
       "    </tr>\n",
       "    <tr>\n",
       "      <th>3</th>\n",
       "      <td>42</td>\n",
       "      <td>3</td>\n",
       "      <td>2</td>\n",
       "      <td>9</td>\n",
       "      <td>1</td>\n",
       "      <td>1</td>\n",
       "      <td>3</td>\n",
       "      <td>3</td>\n",
       "      <td>0</td>\n",
       "      <td>1</td>\n",
       "    </tr>\n",
       "    <tr>\n",
       "      <th>4</th>\n",
       "      <td>36</td>\n",
       "      <td>3</td>\n",
       "      <td>3</td>\n",
       "      <td>8</td>\n",
       "      <td>1</td>\n",
       "      <td>1</td>\n",
       "      <td>3</td>\n",
       "      <td>2</td>\n",
       "      <td>0</td>\n",
       "      <td>1</td>\n",
       "    </tr>\n",
       "  </tbody>\n",
       "</table>\n",
       "</div>"
      ],
      "text/plain": [
       "   Age  Education  H_education  num_child  Religion  Employ  H_occupation  \\\n",
       "0   24          2            3          3         1       1             2   \n",
       "1   45          1            3         10         1       1             3   \n",
       "2   43          2            3          7         1       1             3   \n",
       "3   42          3            2          9         1       1             3   \n",
       "4   36          3            3          8         1       1             3   \n",
       "\n",
       "   living_standard  Media_exposure  contraceptive  \n",
       "0                3               0              1  \n",
       "1                4               0              1  \n",
       "2                4               0              1  \n",
       "3                3               0              1  \n",
       "4                2               0              1  "
      ]
     },
     "execution_count": 3,
     "metadata": {},
     "output_type": "execute_result"
    }
   ],
   "source": [
    "df = pd.read_csv('../data/cmc.data',header=None,names=['Age','Education','H_education',\n",
    "                                                     'num_child','Religion', 'Employ',\n",
    "                                                     'H_occupation','living_standard',\n",
    "                                                     'Media_exposure','contraceptive'])\n",
    "df.head()"
   ]
  },
  {
   "cell_type": "code",
   "execution_count": 4,
   "metadata": {
    "ExecuteTime": {
     "end_time": "2018-07-24T23:17:58.734052Z",
     "start_time": "2018-07-24T23:17:58.723772Z"
    }
   },
   "outputs": [
    {
     "data": {
      "text/plain": [
       "Age                False\n",
       "Education          False\n",
       "H_education        False\n",
       "num_child          False\n",
       "Religion           False\n",
       "Employ             False\n",
       "H_occupation       False\n",
       "living_standard    False\n",
       "Media_exposure     False\n",
       "contraceptive      False\n",
       "dtype: bool"
      ]
     },
     "execution_count": 4,
     "metadata": {},
     "output_type": "execute_result"
    }
   ],
   "source": [
    "df.isnull().any()"
   ]
  },
  {
   "cell_type": "code",
   "execution_count": 5,
   "metadata": {
    "ExecuteTime": {
     "end_time": "2018-07-24T23:18:00.608565Z",
     "start_time": "2018-07-24T23:17:59.995210Z"
    }
   },
   "outputs": [
    {
     "data": {
      "text/plain": [
       "<matplotlib.axes._subplots.AxesSubplot at 0x1a243c9748>"
      ]
     },
     "execution_count": 5,
     "metadata": {},
     "output_type": "execute_result"
    },
    {
     "data": {
      "image/png": "[encoded data removed]",
      "text/plain": [
       "<matplotlib.figure.Figure at 0x1a2420fb70>"
      ]
     },
     "metadata": {},
     "output_type": "display_data"
    }
   ],
   "source": [
    "df.Education.hist()"
   ]
  },
  {
   "cell_type": "code",
   "execution_count": 6,
   "metadata": {
    "ExecuteTime": {
     "end_time": "2018-07-24T23:18:05.002001Z",
     "start_time": "2018-07-24T23:18:04.994030Z"
    }
   },
   "outputs": [
    {
     "data": {
      "text/plain": [
       "(1473, 10)"
      ]
     },
     "execution_count": 6,
     "metadata": {},
     "output_type": "execute_result"
    }
   ],
   "source": [
    "df.shape"
   ]
  },
  {
   "cell_type": "code",
   "execution_count": 7,
   "metadata": {
    "ExecuteTime": {
     "end_time": "2018-07-24T23:18:06.514811Z",
     "start_time": "2018-07-24T23:18:06.297180Z"
    }
   },
   "outputs": [
    {
     "data": {
      "text/plain": [
       "<matplotlib.axes._subplots.AxesSubplot at 0x1a24251c50>"
      ]
     },
     "execution_count": 7,
     "metadata": {},
     "output_type": "execute_result"
    },
    {
     "data": {
      "image/png": "[encoded data removed]",
      "text/plain": [
       "<matplotlib.figure.Figure at 0x1a243133c8>"
      ]
     },
     "metadata": {},
     "output_type": "display_data"
    }
   ],
   "source": [
    "df.contraceptive.hist()"
   ]
  },
  {
   "cell_type": "code",
   "execution_count": 8,
   "metadata": {
    "ExecuteTime": {
     "end_time": "2018-07-24T23:18:07.678498Z",
     "start_time": "2018-07-24T23:18:07.666564Z"
    }
   },
   "outputs": [
    {
     "data": {
      "text/plain": [
       "Age                int64\n",
       "Education          int64\n",
       "H_education        int64\n",
       "num_child          int64\n",
       "Religion           int64\n",
       "Employ             int64\n",
       "H_occupation       int64\n",
       "living_standard    int64\n",
       "Media_exposure     int64\n",
       "contraceptive      int64\n",
       "dtype: object"
      ]
     },
     "execution_count": 8,
     "metadata": {},
     "output_type": "execute_result"
    }
   ],
   "source": [
    "df.dtypes"
   ]
  },
  {
   "cell_type": "code",
   "execution_count": 11,
   "metadata": {
    "ExecuteTime": {
     "end_time": "2018-07-24T23:19:18.705461Z",
     "start_time": "2018-07-24T23:19:18.698509Z"
    },
    "collapsed": true
   },
   "outputs": [],
   "source": [
    "def one_hot_encoding(idx):\n",
    "    y = np.zeros((len(idx),max(idx)+1))\n",
    "    y[np.arange(len(idx)), idx] = 1\n",
    "    return y"
   ]
  },
  {
   "cell_type": "code",
   "execution_count": 10,
   "metadata": {
    "collapsed": true
   },
   "outputs": [],
   "source": [
    "scaler = StandardScaler()\n",
    "df[['Age','num_child']] = scaler.fit_transform(df[['Age','num_child']]) "
   ]
  },
  {
   "cell_type": "code",
   "execution_count": 12,
   "metadata": {
    "ExecuteTime": {
     "end_time": "2018-07-24T23:19:19.964204Z",
     "start_time": "2018-07-24T23:19:19.956300Z"
    }
   },
   "outputs": [],
   "source": [
    "x = df[['Age','num_child','Employ','Media_exposure']].values\n",
    "y = one_hot_encoding(df.contraceptive.values-1)\n"
   ]
  },
  {
   "cell_type": "code",
   "execution_count": 15,
   "metadata": {
    "ExecuteTime": {
     "end_time": "2018-07-24T23:19:45.309194Z",
     "start_time": "2018-07-24T23:19:45.303547Z"
    },
    "collapsed": true
   },
   "outputs": [],
   "source": [
    "liv_cats = df.living_standard.max()\n",
    "edu_cats = df.Education.max()"
   ]
  },
  {
   "cell_type": "code",
   "execution_count": 17,
   "metadata": {
    "ExecuteTime": {
     "end_time": "2018-07-24T23:20:15.590515Z",
     "start_time": "2018-07-24T23:20:15.583580Z"
    },
    "collapsed": true
   },
   "outputs": [],
   "source": [
    "liv = df.living_standard.values - 1\n",
    "liv_one_hot = one_hot_encoding(liv)\n",
    "edu = df.Education.values - 1\n",
    "edu_one_hot = one_hot_encoding(edu)"
   ]
  },
  {
   "cell_type": "code",
   "execution_count": 18,
   "metadata": {
    "ExecuteTime": {
     "end_time": "2018-07-24T23:20:42.386175Z",
     "start_time": "2018-07-24T23:20:42.375844Z"
    },
    "collapsed": true
   },
   "outputs": [],
   "source": [
    "# x = df[['Age','num_child','Employ','Media_exposure']].values\n",
    "# y = one_hot_encoding(df.contraceptive.values-1)\n",
    "\n",
    "# liv_cats = df.living_standard.max()\n",
    "# edu_cats = df.Education.max()\n",
    "\n",
    "# liv = df.living_standard.values - 1\n",
    "# liv_one_hot = one_hot_encoding(liv)\n",
    "# edu = df.Education.values - 1\n",
    "# edu_one_hot = one_hot_encoding(edu)\n",
    "\n",
    "train_x, test_x, train_liv, \\\n",
    "test_liv, train_edu, test_edu, train_y, test_y = train_test_split(x,liv_one_hot,edu_one_hot,y,test_size=0.1, random_state=1)"
   ]
  },
  {
   "cell_type": "code",
   "execution_count": 21,
   "metadata": {
    "ExecuteTime": {
     "end_time": "2018-07-24T23:21:07.263426Z",
     "start_time": "2018-07-24T23:21:07.256437Z"
    }
   },
   "outputs": [
    {
     "data": {
      "text/plain": [
       "((1325, 4), (1325, 4), (1325, 4))"
      ]
     },
     "execution_count": 21,
     "metadata": {},
     "output_type": "execute_result"
    }
   ],
   "source": [
    "train_x.shape, train_edu.shape, train_liv.shape"
   ]
  },
  {
   "cell_type": "code",
   "execution_count": 22,
   "metadata": {
    "ExecuteTime": {
     "end_time": "2018-07-24T23:21:14.102073Z",
     "start_time": "2018-07-24T23:21:14.096535Z"
    },
    "collapsed": true
   },
   "outputs": [],
   "source": [
    "train_x = np.hstack([train_x, train_edu, train_liv])\n",
    "test_x = np.hstack([test_x, test_edu, test_liv])"
   ]
  },
  {
   "cell_type": "code",
   "execution_count": 23,
   "metadata": {
    "ExecuteTime": {
     "end_time": "2018-07-24T23:21:14.806901Z",
     "start_time": "2018-07-24T23:21:14.799485Z"
    }
   },
   "outputs": [
    {
     "data": {
      "text/plain": [
       "(1325, 12)"
      ]
     },
     "execution_count": 23,
     "metadata": {},
     "output_type": "execute_result"
    }
   ],
   "source": [
    "train_x.shape"
   ]
  },
  {
   "cell_type": "code",
   "execution_count": 24,
   "metadata": {
    "ExecuteTime": {
     "end_time": "2018-07-24T23:21:15.790589Z",
     "start_time": "2018-07-24T23:21:15.783544Z"
    }
   },
   "outputs": [
    {
     "data": {
      "text/plain": [
       "(1325, 4)"
      ]
     },
     "execution_count": 24,
     "metadata": {},
     "output_type": "execute_result"
    }
   ],
   "source": [
    "train_edu.shape"
   ]
  },
  {
   "cell_type": "code",
   "execution_count": 25,
   "metadata": {
    "ExecuteTime": {
     "end_time": "2018-07-24T23:21:38.639063Z",
     "start_time": "2018-07-24T23:21:38.632024Z"
    }
   },
   "outputs": [
    {
     "data": {
      "text/plain": [
       "(1325, 4)"
      ]
     },
     "execution_count": 25,
     "metadata": {},
     "output_type": "execute_result"
    }
   ],
   "source": [
    "train_liv.shape"
   ]
  },
  {
   "cell_type": "code",
   "execution_count": 26,
   "metadata": {
    "ExecuteTime": {
     "end_time": "2018-07-24T23:21:39.183182Z",
     "start_time": "2018-07-24T23:21:39.176137Z"
    }
   },
   "outputs": [
    {
     "data": {
      "text/plain": [
       "(1325, 12)"
      ]
     },
     "execution_count": 26,
     "metadata": {},
     "output_type": "execute_result"
    }
   ],
   "source": [
    "train_x.shape"
   ]
  },
  {
   "cell_type": "markdown",
   "metadata": {},
   "source": [
    "## Model with One-hot encoding"
   ]
  },
  {
   "cell_type": "code",
   "execution_count": null,
   "metadata": {
    "collapsed": true
   },
   "outputs": [],
   "source": [
    "model = Sequential()\n",
    "model.add(Dense(input_dim=train_x.shape[1],output_dim=12))\n",
    "model.add(Activation('relu'))\n",
    "model.add(Dense(output_dim=3))\n",
    "model.add(Activation('softmax'))\n",
    "model.compile(optimizer='adagrad', loss='categorical_crossentropy', metrics=['accuracy'])\n",
    "model.fit(train_x, train_y, nb_epoch=100, verbose=2)"
   ]
  },
  {
   "cell_type": "code",
   "execution_count": 28,
   "metadata": {
    "ExecuteTime": {
     "end_time": "2018-07-24T23:22:19.661777Z",
     "start_time": "2018-07-24T23:22:19.648840Z"
    }
   },
   "outputs": [
    {
     "name": "stdout",
     "output_type": "stream",
     "text": [
      "_________________________________________________________________\n",
      "Layer (type)                 Output Shape              Param #   \n",
      "=================================================================\n",
      "dense_1 (Dense)              (None, 12)                156       \n",
      "_________________________________________________________________\n",
      "activation_1 (Activation)    (None, 12)                0         \n",
      "_________________________________________________________________\n",
      "dense_2 (Dense)              (None, 3)                 39        \n",
      "_________________________________________________________________\n",
      "activation_2 (Activation)    (None, 3)                 0         \n",
      "=================================================================\n",
      "Total params: 195\n",
      "Trainable params: 195\n",
      "Non-trainable params: 0\n",
      "_________________________________________________________________\n"
     ]
    }
   ],
   "source": [
    "model.summary()"
   ]
  },
  {
   "cell_type": "markdown",
   "metadata": {},
   "source": [
    "Weight Dimensions:"
   ]
  },
  {
   "cell_type": "code",
   "execution_count": 29,
   "metadata": {
    "ExecuteTime": {
     "end_time": "2018-07-24T23:22:25.207767Z",
     "start_time": "2018-07-24T23:22:25.194044Z"
    }
   },
   "outputs": [
    {
     "name": "stdout",
     "output_type": "stream",
     "text": [
      "(12, 12)\n",
      "(12,)\n",
      "(12, 3)\n",
      "(3,)\n"
     ]
    }
   ],
   "source": [
    "for w in model.get_weights():\n",
    "    print(w.shape)"
   ]
  },
  {
   "cell_type": "code",
   "execution_count": 30,
   "metadata": {
    "ExecuteTime": {
     "end_time": "2018-07-24T23:22:30.314305Z",
     "start_time": "2018-07-24T23:22:30.257941Z"
    }
   },
   "outputs": [
    {
     "name": "stdout",
     "output_type": "stream",
     "text": [
      "\r",
      "148/148 [==============================] - 0s 288us/step\n"
     ]
    },
    {
     "data": {
      "text/plain": [
       "[0.91856777667999268, 0.52027028799057007]"
      ]
     },
     "execution_count": 30,
     "metadata": {},
     "output_type": "execute_result"
    }
   ],
   "source": [
    "model.evaluate(test_x, test_y, batch_size=256)"
   ]
  },
  {
   "cell_type": "code",
   "execution_count": 31,
   "metadata": {
    "ExecuteTime": {
     "end_time": "2018-07-24T23:22:38.607096Z",
     "start_time": "2018-07-24T23:22:38.578529Z"
    }
   },
   "outputs": [
    {
     "data": {
      "text/plain": [
       "array([[ 0.40902346,  0.27263299,  0.31834358],\n",
       "       [ 0.58131951,  0.20289217,  0.21578833],\n",
       "       [ 0.31818059,  0.23981734,  0.44200209],\n",
       "       [ 0.290961  ,  0.31572962,  0.39330938],\n",
       "       [ 0.48589596,  0.26598814,  0.24811587],\n",
       "       [ 0.25126049,  0.4335646 ,  0.31517494],\n",
       "       [ 0.16663633,  0.48484042,  0.34852332],\n",
       "       [ 0.6458289 ,  0.11265027,  0.24152093],\n",
       "       [ 0.67687982,  0.05958195,  0.26353824],\n",
       "       [ 0.53912604,  0.14934954,  0.31152439]], dtype=float32)"
      ]
     },
     "execution_count": 31,
     "metadata": {},
     "output_type": "execute_result"
    }
   ],
   "source": [
    "model.predict(test_x[:10])"
   ]
  },
  {
   "cell_type": "code",
   "execution_count": 22,
   "metadata": {},
   "outputs": [
    {
     "data": {
      "text/plain": [
       "array([2, 3, 3, ..., 3, 1, 3])"
      ]
     },
     "execution_count": 22,
     "metadata": {},
     "output_type": "execute_result"
    }
   ],
   "source": [
    "liv"
   ]
  },
  {
   "cell_type": "markdown",
   "metadata": {},
   "source": [
    "## Model with embeddings"
   ]
  },
  {
   "cell_type": "code",
   "execution_count": 33,
   "metadata": {
    "ExecuteTime": {
     "end_time": "2018-07-24T23:24:03.531347Z",
     "start_time": "2018-07-24T23:24:03.524693Z"
    }
   },
   "outputs": [
    {
     "data": {
      "text/plain": [
       "4"
      ]
     },
     "execution_count": 33,
     "metadata": {},
     "output_type": "execute_result"
    }
   ],
   "source": [
    "liv_cats"
   ]
  },
  {
   "cell_type": "code",
   "execution_count": 32,
   "metadata": {
    "ExecuteTime": {
     "end_time": "2018-07-24T23:23:47.945637Z",
     "start_time": "2018-07-24T23:23:47.938948Z"
    },
    "collapsed": true
   },
   "outputs": [],
   "source": [
    "train_x, test_x, train_liv, \\\n",
    "test_liv, train_edu, test_edu, train_y, test_y = train_test_split(x,liv,edu,y,test_size=0.1, random_state=1)"
   ]
  },
  {
   "cell_type": "code",
   "execution_count": 35,
   "metadata": {
    "ExecuteTime": {
     "end_time": "2018-07-24T23:27:18.260237Z",
     "start_time": "2018-07-24T23:27:18.058772Z"
    }
   },
   "outputs": [
    {
     "name": "stderr",
     "output_type": "stream",
     "text": [
      "/Users/home/anaconda3/envs/ML/lib/python3.5/site-packages/ipykernel_launcher.py:16: UserWarning: The `Merge` layer is deprecated and will be removed after 08/2017. Use instead layers from `keras.layers.merge`, e.g. `add`, `concatenate`, etc.\n",
      "  app.launch_new_instance()\n",
      "/Users/home/anaconda3/envs/ML/lib/python3.5/site-packages/ipykernel_launcher.py:18: UserWarning: Update your `Dense` call to the Keras 2 API: `Dense(units=12)`\n",
      "/Users/home/anaconda3/envs/ML/lib/python3.5/site-packages/ipykernel_launcher.py:20: UserWarning: Update your `Dense` call to the Keras 2 API: `Dense(units=3)`\n"
     ]
    }
   ],
   "source": [
    "# Input layer for religion\n",
    "encoder_liv = Sequential()\n",
    "encoder_liv.add(Embedding(liv_cats,2,input_length=1))\n",
    "encoder_liv.add(Flatten())\n",
    "\n",
    "# Input layer for religion\n",
    "encoder_edu = Sequential()\n",
    "encoder_edu.add(Embedding(edu_cats,2,input_length=1))\n",
    "encoder_edu.add(Flatten())\n",
    "\n",
    "# Input layer for triggers(x_b)\n",
    "dense_x = Sequential()\n",
    "dense_x.add(Dense(4, input_dim=x.shape[1]))\n",
    "\n",
    "model = Sequential()\n",
    "model.add(Merge([encoder_liv, encoder_edu, dense_x], mode='concat'))\n",
    "# model.add(Activation('relu'))\n",
    "model.add(Dense(output_dim=12))\n",
    "model.add(Activation('relu'))\n",
    "model.add(Dense(output_dim=3))\n",
    "model.add(Activation('softmax'))\n",
    "\n",
    "model.compile(optimizer='adagrad', loss='categorical_crossentropy', metrics=['accuracy'])"
   ]
  },
  {
   "cell_type": "code",
   "execution_count": 36,
   "metadata": {
    "ExecuteTime": {
     "end_time": "2018-07-24T23:27:30.721874Z",
     "start_time": "2018-07-24T23:27:20.209835Z"
    }
   },
   "outputs": [
    {
     "name": "stderr",
     "output_type": "stream",
     "text": [
      "/Users/home/anaconda3/envs/ML/lib/python3.5/site-packages/keras/models.py:981: UserWarning: The `nb_epoch` argument in `fit` has been renamed `epochs`.\n",
      "  warnings.warn('The `nb_epoch` argument in `fit` '\n"
     ]
    },
    {
     "name": "stdout",
     "output_type": "stream",
     "text": [
      "Epoch 1/100\n",
      " - 0s - loss: 1.6993 - acc: 0.3011\n",
      "Epoch 2/100\n",
      " - 0s - loss: 1.1449 - acc: 0.3132\n",
      "Epoch 3/100\n",
      " - 0s - loss: 1.1070 - acc: 0.3464\n",
      "Epoch 4/100\n",
      " - 0s - loss: 1.0893 - acc: 0.3804\n",
      "Epoch 5/100\n",
      " - 0s - loss: 1.0699 - acc: 0.4000\n",
      "Epoch 6/100\n",
      " - 0s - loss: 1.0623 - acc: 0.4015\n",
      "Epoch 7/100\n",
      " - 0s - loss: 1.0531 - acc: 0.4211\n",
      "Epoch 8/100\n",
      " - 0s - loss: 1.0457 - acc: 0.4174\n",
      "Epoch 9/100\n",
      " - 0s - loss: 1.0409 - acc: 0.4257\n",
      "Epoch 10/100\n",
      " - 0s - loss: 1.0378 - acc: 0.4264\n",
      "Epoch 11/100\n",
      " - 0s - loss: 1.0335 - acc: 0.4347\n",
      "Epoch 12/100\n",
      " - 0s - loss: 1.0301 - acc: 0.4309\n",
      "Epoch 13/100\n",
      " - 0s - loss: 1.0263 - acc: 0.4272\n",
      "Epoch 14/100\n",
      " - 0s - loss: 1.0236 - acc: 0.4309\n",
      "Epoch 15/100\n",
      " - 0s - loss: 1.0219 - acc: 0.4362\n",
      "Epoch 16/100\n",
      " - 0s - loss: 1.0183 - acc: 0.4445\n",
      "Epoch 17/100\n",
      " - 0s - loss: 1.0176 - acc: 0.4558\n",
      "Epoch 18/100\n",
      " - 0s - loss: 1.0155 - acc: 0.4475\n",
      "Epoch 19/100\n",
      " - 0s - loss: 1.0127 - acc: 0.4558\n",
      "Epoch 20/100\n",
      " - 0s - loss: 1.0118 - acc: 0.4483\n",
      "Epoch 21/100\n",
      " - 0s - loss: 1.0097 - acc: 0.4536\n",
      "Epoch 22/100\n",
      " - 0s - loss: 1.0055 - acc: 0.4679\n",
      "Epoch 23/100\n",
      " - 0s - loss: 1.0057 - acc: 0.4506\n",
      "Epoch 24/100\n",
      " - 0s - loss: 1.0042 - acc: 0.4574\n",
      "Epoch 25/100\n",
      " - 0s - loss: 1.0019 - acc: 0.4604\n",
      "Epoch 26/100\n",
      " - 0s - loss: 1.0005 - acc: 0.4566\n",
      "Epoch 27/100\n",
      " - 0s - loss: 1.0010 - acc: 0.4626\n",
      "Epoch 28/100\n",
      " - 0s - loss: 0.9984 - acc: 0.4664\n",
      "Epoch 29/100\n",
      " - 0s - loss: 0.9963 - acc: 0.4664\n",
      "Epoch 30/100\n",
      " - 0s - loss: 0.9952 - acc: 0.4604\n",
      "Epoch 31/100\n",
      " - 0s - loss: 0.9935 - acc: 0.4755\n",
      "Epoch 32/100\n",
      " - 0s - loss: 0.9933 - acc: 0.4581\n",
      "Epoch 33/100\n",
      " - 0s - loss: 0.9923 - acc: 0.4762\n",
      "Epoch 34/100\n",
      " - 0s - loss: 0.9909 - acc: 0.4755\n",
      "Epoch 35/100\n",
      " - 0s - loss: 0.9899 - acc: 0.4709\n",
      "Epoch 36/100\n",
      " - 0s - loss: 0.9898 - acc: 0.4860\n",
      "Epoch 37/100\n",
      " - 0s - loss: 0.9884 - acc: 0.4755\n",
      "Epoch 38/100\n",
      " - 0s - loss: 0.9876 - acc: 0.4860\n",
      "Epoch 39/100\n",
      " - 0s - loss: 0.9857 - acc: 0.4687\n",
      "Epoch 40/100\n",
      " - 0s - loss: 0.9839 - acc: 0.4823\n",
      "Epoch 41/100\n",
      " - 0s - loss: 0.9852 - acc: 0.4808\n",
      "Epoch 42/100\n",
      " - 0s - loss: 0.9844 - acc: 0.4770\n",
      "Epoch 43/100\n",
      " - 0s - loss: 0.9830 - acc: 0.4830\n",
      "Epoch 44/100\n",
      " - 0s - loss: 0.9823 - acc: 0.4981\n",
      "Epoch 45/100\n",
      " - 0s - loss: 0.9819 - acc: 0.4853\n",
      "Epoch 46/100\n",
      " - 0s - loss: 0.9819 - acc: 0.4898\n",
      "Epoch 47/100\n",
      " - 0s - loss: 0.9805 - acc: 0.4875\n",
      "Epoch 48/100\n",
      " - 0s - loss: 0.9798 - acc: 0.4823\n",
      "Epoch 49/100\n",
      " - 0s - loss: 0.9796 - acc: 0.4898\n",
      "Epoch 50/100\n",
      " - 0s - loss: 0.9787 - acc: 0.4966\n",
      "Epoch 51/100\n",
      " - 0s - loss: 0.9783 - acc: 0.4913\n",
      "Epoch 52/100\n",
      " - 0s - loss: 0.9775 - acc: 0.4883\n",
      "Epoch 53/100\n",
      " - 0s - loss: 0.9774 - acc: 0.4943\n",
      "Epoch 54/100\n",
      " - 0s - loss: 0.9762 - acc: 0.4943\n",
      "Epoch 55/100\n",
      " - 0s - loss: 0.9770 - acc: 0.4906\n",
      "Epoch 56/100\n",
      " - 0s - loss: 0.9762 - acc: 0.4838\n",
      "Epoch 57/100\n",
      " - 0s - loss: 0.9753 - acc: 0.4989\n",
      "Epoch 58/100\n",
      " - 0s - loss: 0.9751 - acc: 0.4981\n",
      "Epoch 59/100\n",
      " - 0s - loss: 0.9744 - acc: 0.4996\n",
      "Epoch 60/100\n",
      " - 0s - loss: 0.9746 - acc: 0.4951\n",
      "Epoch 61/100\n",
      " - 0s - loss: 0.9739 - acc: 0.5072\n",
      "Epoch 62/100\n",
      " - 0s - loss: 0.9756 - acc: 0.4921\n",
      "Epoch 63/100\n",
      " - 0s - loss: 0.9731 - acc: 0.5057\n",
      "Epoch 64/100\n",
      " - 0s - loss: 0.9733 - acc: 0.4966\n",
      "Epoch 65/100\n",
      " - 0s - loss: 0.9721 - acc: 0.4928\n",
      "Epoch 66/100\n",
      " - 0s - loss: 0.9721 - acc: 0.5079\n",
      "Epoch 67/100\n",
      " - 0s - loss: 0.9719 - acc: 0.5079\n",
      "Epoch 68/100\n",
      " - 0s - loss: 0.9723 - acc: 0.4913\n",
      "Epoch 69/100\n",
      " - 0s - loss: 0.9716 - acc: 0.5019\n",
      "Epoch 70/100\n",
      " - 0s - loss: 0.9709 - acc: 0.5079\n",
      "Epoch 71/100\n",
      " - 0s - loss: 0.9704 - acc: 0.5072\n",
      "Epoch 72/100\n",
      " - 0s - loss: 0.9707 - acc: 0.4989\n",
      "Epoch 73/100\n",
      " - 0s - loss: 0.9703 - acc: 0.5072\n",
      "Epoch 74/100\n",
      " - 0s - loss: 0.9705 - acc: 0.5042\n",
      "Epoch 75/100\n",
      " - 0s - loss: 0.9703 - acc: 0.5004\n",
      "Epoch 76/100\n",
      " - 0s - loss: 0.9700 - acc: 0.5117\n",
      "Epoch 77/100\n",
      " - 0s - loss: 0.9687 - acc: 0.4989\n",
      "Epoch 78/100\n",
      " - 0s - loss: 0.9698 - acc: 0.5011\n",
      "Epoch 79/100\n",
      " - 0s - loss: 0.9686 - acc: 0.4996\n",
      "Epoch 80/100\n",
      " - 0s - loss: 0.9701 - acc: 0.4966\n",
      "Epoch 81/100\n",
      " - 0s - loss: 0.9684 - acc: 0.5057\n",
      "Epoch 82/100\n",
      " - 0s - loss: 0.9689 - acc: 0.5064\n",
      "Epoch 83/100\n",
      " - 0s - loss: 0.9675 - acc: 0.5094\n",
      "Epoch 84/100\n",
      " - 0s - loss: 0.9679 - acc: 0.5064\n",
      "Epoch 85/100\n",
      " - 0s - loss: 0.9682 - acc: 0.5034\n",
      "Epoch 86/100\n",
      " - 0s - loss: 0.9679 - acc: 0.5079\n",
      "Epoch 87/100\n",
      " - 0s - loss: 0.9664 - acc: 0.5057\n",
      "Epoch 88/100\n",
      " - 0s - loss: 0.9676 - acc: 0.5026\n",
      "Epoch 89/100\n",
      " - 0s - loss: 0.9669 - acc: 0.5064\n",
      "Epoch 90/100\n",
      " - 0s - loss: 0.9671 - acc: 0.5042\n",
      "Epoch 91/100\n",
      " - 0s - loss: 0.9671 - acc: 0.5034\n",
      "Epoch 92/100\n",
      " - 0s - loss: 0.9665 - acc: 0.5132\n",
      "Epoch 93/100\n",
      " - 0s - loss: 0.9669 - acc: 0.5026\n",
      "Epoch 94/100\n",
      " - 0s - loss: 0.9669 - acc: 0.5049\n",
      "Epoch 95/100\n",
      " - 0s - loss: 0.9661 - acc: 0.5049\n",
      "Epoch 96/100\n",
      " - 0s - loss: 0.9667 - acc: 0.5004\n",
      "Epoch 97/100\n",
      " - 0s - loss: 0.9661 - acc: 0.4936\n",
      "Epoch 98/100\n",
      " - 0s - loss: 0.9659 - acc: 0.5049\n",
      "Epoch 99/100\n",
      " - 0s - loss: 0.9659 - acc: 0.5004\n",
      "Epoch 100/100\n",
      " - 0s - loss: 0.9656 - acc: 0.5079\n"
     ]
    },
    {
     "data": {
      "text/plain": [
       "<keras.callbacks.History at 0x1a2cbe8eb8>"
      ]
     },
     "execution_count": 36,
     "metadata": {},
     "output_type": "execute_result"
    }
   ],
   "source": [
    "model.fit([train_liv[:,None], train_edu[:,None], train_x], train_y, nb_epoch=100, verbose=2)"
   ]
  },
  {
   "cell_type": "code",
   "execution_count": 37,
   "metadata": {
    "ExecuteTime": {
     "end_time": "2018-07-24T23:27:37.210657Z",
     "start_time": "2018-07-24T23:27:37.202528Z"
    }
   },
   "outputs": [
    {
     "name": "stdout",
     "output_type": "stream",
     "text": [
      "_________________________________________________________________\n",
      "Layer (type)                 Output Shape              Param #   \n",
      "=================================================================\n",
      "dense_3 (Dense)              (None, 4)                 20        \n",
      "=================================================================\n",
      "Total params: 20\n",
      "Trainable params: 20\n",
      "Non-trainable params: 0\n",
      "_________________________________________________________________\n"
     ]
    }
   ],
   "source": [
    "dense_x.summary()"
   ]
  },
  {
   "cell_type": "code",
   "execution_count": 38,
   "metadata": {
    "ExecuteTime": {
     "end_time": "2018-07-24T23:27:48.822449Z",
     "start_time": "2018-07-24T23:27:48.812190Z"
    }
   },
   "outputs": [
    {
     "name": "stdout",
     "output_type": "stream",
     "text": [
      "_________________________________________________________________\n",
      "Layer (type)                 Output Shape              Param #   \n",
      "=================================================================\n",
      "embedding_1 (Embedding)      (None, 1, 2)              8         \n",
      "_________________________________________________________________\n",
      "flatten_1 (Flatten)          (None, 2)                 0         \n",
      "=================================================================\n",
      "Total params: 8\n",
      "Trainable params: 8\n",
      "Non-trainable params: 0\n",
      "_________________________________________________________________\n"
     ]
    }
   ],
   "source": [
    "encoder_liv.summary()"
   ]
  },
  {
   "cell_type": "code",
   "execution_count": 40,
   "metadata": {
    "ExecuteTime": {
     "end_time": "2018-07-24T23:28:11.573394Z",
     "start_time": "2018-07-24T23:28:11.563840Z"
    }
   },
   "outputs": [
    {
     "name": "stdout",
     "output_type": "stream",
     "text": [
      "_________________________________________________________________\n",
      "Layer (type)                 Output Shape              Param #   \n",
      "=================================================================\n",
      "embedding_2 (Embedding)      (None, 1, 2)              8         \n",
      "_________________________________________________________________\n",
      "flatten_2 (Flatten)          (None, 2)                 0         \n",
      "=================================================================\n",
      "Total params: 8\n",
      "Trainable params: 8\n",
      "Non-trainable params: 0\n",
      "_________________________________________________________________\n"
     ]
    }
   ],
   "source": [
    "encoder_edu.summary()"
   ]
  },
  {
   "cell_type": "code",
   "execution_count": 41,
   "metadata": {
    "ExecuteTime": {
     "end_time": "2018-07-24T23:28:13.822600Z",
     "start_time": "2018-07-24T23:28:13.810516Z"
    }
   },
   "outputs": [
    {
     "name": "stdout",
     "output_type": "stream",
     "text": [
      "_________________________________________________________________\n",
      "Layer (type)                 Output Shape              Param #   \n",
      "=================================================================\n",
      "merge_1 (Merge)              (None, 8)                 0         \n",
      "_________________________________________________________________\n",
      "dense_4 (Dense)              (None, 12)                108       \n",
      "_________________________________________________________________\n",
      "activation_3 (Activation)    (None, 12)                0         \n",
      "_________________________________________________________________\n",
      "dense_5 (Dense)              (None, 3)                 39        \n",
      "_________________________________________________________________\n",
      "activation_4 (Activation)    (None, 3)                 0         \n",
      "=================================================================\n",
      "Total params: 183\n",
      "Trainable params: 183\n",
      "Non-trainable params: 0\n",
      "_________________________________________________________________\n"
     ]
    }
   ],
   "source": [
    "model.summary()"
   ]
  },
  {
   "cell_type": "code",
   "execution_count": 42,
   "metadata": {
    "ExecuteTime": {
     "end_time": "2018-07-24T23:28:19.785088Z",
     "start_time": "2018-07-24T23:28:19.707007Z"
    }
   },
   "outputs": [
    {
     "name": "stdout",
     "output_type": "stream",
     "text": [
      "(4, 2)\n",
      "(4, 2)\n",
      "(4, 4)\n",
      "(8, 12)\n",
      "(12, 3)\n"
     ]
    }
   ],
   "source": [
    "for w in model.get_weights():\n",
    "    if w:\n",
    "        print(w[0].shape)"
   ]
  },
  {
   "cell_type": "code",
   "execution_count": 75,
   "metadata": {
    "ExecuteTime": {
     "end_time": "2018-07-25T03:20:38.943571Z",
     "start_time": "2018-07-25T03:20:38.926347Z"
    }
   },
   "outputs": [
    {
     "data": {
      "text/plain": [
       "(array([[3],\n",
       "        [3],\n",
       "        [1],\n",
       "        ..., \n",
       "        [2],\n",
       "        [1],\n",
       "        [0]]), array([[3],\n",
       "        [3],\n",
       "        [0],\n",
       "        ..., \n",
       "        [3],\n",
       "        [3],\n",
       "        [3]]))"
      ]
     },
     "execution_count": 75,
     "metadata": {},
     "output_type": "execute_result"
    }
   ],
   "source": [
    "train_edu[:,None], train_liv[:,None]"
   ]
  },
  {
   "cell_type": "code",
   "execution_count": 56,
   "metadata": {
    "ExecuteTime": {
     "end_time": "2018-07-25T00:56:27.182844Z",
     "start_time": "2018-07-25T00:56:27.175330Z"
    }
   },
   "outputs": [
    {
     "data": {
      "text/plain": [
       "(array([[ 0.15692148, -0.54465717],\n",
       "        [ 0.21701352, -0.22640347],\n",
       "        [ 0.10284594,  0.01676768],\n",
       "        [ 0.02353759,  0.28851801]], dtype=float32), (4, 2))"
      ]
     },
     "execution_count": 56,
     "metadata": {},
     "output_type": "execute_result"
    }
   ],
   "source": [
    "a[0][0], a[0][0].shape"
   ]
  },
  {
   "cell_type": "code",
   "execution_count": 43,
   "metadata": {
    "ExecuteTime": {
     "end_time": "2018-07-24T23:28:24.447671Z",
     "start_time": "2018-07-24T23:28:24.429524Z"
    }
   },
   "outputs": [
    {
     "data": {
      "text/plain": [
       "[[array([[ 0.15692148, -0.54465717],\n",
       "         [ 0.21701352, -0.22640347],\n",
       "         [ 0.10284594,  0.01676768],\n",
       "         [ 0.02353759,  0.28851801]], dtype=float32)],\n",
       " [],\n",
       " [array([[-0.55586469, -0.77382845],\n",
       "         [-0.35724109, -0.56051189],\n",
       "         [-0.0728311 , -0.08787198],\n",
       "         [ 0.38227242,  0.49498922]], dtype=float32)],\n",
       " [],\n",
       " [array([[-0.57601023,  0.50421578,  0.07752412,  0.79866284],\n",
       "         [-0.16892873, -0.74922204, -0.81446004, -0.36228481],\n",
       "         [ 0.68404311,  0.71968639, -0.61229873,  0.52547914],\n",
       "         [ 0.12434465,  0.76771772, -0.15041605, -0.16731255]], dtype=float32),\n",
       "  array([ 0.15696481, -0.23329066, -0.10003409,  0.15522388], dtype=float32)],\n",
       " [array([[-0.52829862,  0.44629076, -0.028669  ,  0.44989288,  0.17060408,\n",
       "           0.29004079,  0.15839356,  0.44832721,  0.04850715,  0.44372445,\n",
       "          -0.00498133, -0.84187531],\n",
       "         [-0.10319579,  0.28611308, -0.35744926, -0.00445837, -1.1123116 ,\n",
       "           0.15813172, -0.4148019 ,  0.58018124,  0.10653031,  0.26326632,\n",
       "           0.3496564 ,  0.37578899],\n",
       "         [-0.54605484, -0.19922836,  0.05485928,  0.29443938, -0.96153867,\n",
       "          -0.25430599,  0.29014671,  0.69389373, -0.00178868, -0.13625473,\n",
       "           0.21402252,  0.40521178],\n",
       "         [-0.33866128,  0.63839096, -0.15088847, -0.09646466, -1.42919457,\n",
       "          -0.11414292,  0.45463753,  0.43153691,  0.01487559, -0.00505126,\n",
       "           0.52865857,  0.94358188],\n",
       "         [-0.21959862, -0.03994689,  0.2048679 , -0.01849818, -0.42362741,\n",
       "           0.12180787,  0.27979439,  0.03103285,  0.18248522,  0.36279696,\n",
       "          -0.23862869, -0.57038188],\n",
       "         [-0.42748058,  0.19133997, -0.37911004, -0.45234859,  0.17115094,\n",
       "          -0.53744054, -0.00666022, -0.51432633, -0.45323017, -0.41093245,\n",
       "           0.60750085,  0.15852115],\n",
       "         [ 0.3771162 ,  0.03043635, -0.14892325, -0.35980219,  0.44331938,\n",
       "           0.1980707 , -0.14905527, -0.53922862,  0.36402798,  0.50258827,\n",
       "          -0.04699766, -0.09675723],\n",
       "         [-0.40608844,  0.34105194, -0.37326351, -0.49267992,  0.09849212,\n",
       "          -0.0845491 , -0.15661183,  0.40400434,  0.30438411,  0.00422591,\n",
       "          -0.40743983, -0.20670946]], dtype=float32),\n",
       "  array([ 0.        ,  0.12499211,  0.        ,  0.        , -0.01843316,\n",
       "          0.        ,  0.        ,  0.17655407,  0.        ,  0.        ,\n",
       "         -0.20212522, -0.14724113], dtype=float32)],\n",
       " [],\n",
       " [array([[-0.08874243, -0.13689196, -0.19152725],\n",
       "         [-0.26026064, -0.26744869,  0.30830994],\n",
       "         [-0.28130424,  0.43734723,  0.62465912],\n",
       "         [-0.02727067,  0.07199305, -0.41299942],\n",
       "         [-0.03094122, -0.45346853, -0.42389205],\n",
       "         [-0.19290531,  0.27142936,  0.02987361],\n",
       "         [-0.36633107,  0.12387389,  0.31681657],\n",
       "         [-0.56029004, -0.44524753, -0.20478645],\n",
       "         [ 0.22214454, -0.21564114, -0.19293955],\n",
       "         [-0.51441491,  0.17493892,  0.52294892],\n",
       "         [ 0.16873115,  0.32127005, -0.11907911],\n",
       "         [ 0.00371189,  0.53564483, -0.36668614]], dtype=float32),\n",
       "  array([-0.02873717, -0.11540477,  0.13053212], dtype=float32)],\n",
       " []]"
      ]
     },
     "execution_count": 43,
     "metadata": {},
     "output_type": "execute_result"
    }
   ],
   "source": [
    "a = model.get_weights()\n",
    "a"
   ]
  },
  {
   "cell_type": "code",
   "execution_count": 44,
   "metadata": {
    "ExecuteTime": {
     "end_time": "2018-07-24T23:28:41.876855Z",
     "start_time": "2018-07-24T23:28:41.788627Z"
    }
   },
   "outputs": [
    {
     "name": "stdout",
     "output_type": "stream",
     "text": [
      "\r",
      "148/148 [==============================] - 0s 532us/step\n"
     ]
    },
    {
     "data": {
      "text/plain": [
       "[0.93451815843582153, 0.53378379344940186]"
      ]
     },
     "execution_count": 44,
     "metadata": {},
     "output_type": "execute_result"
    }
   ],
   "source": [
    "model.evaluate([test_liv[:,None], test_edu[:,None], test_x],test_y, batch_size=256)"
   ]
  },
  {
   "cell_type": "code",
   "execution_count": 65,
   "metadata": {
    "ExecuteTime": {
     "end_time": "2018-07-25T01:05:58.693502Z",
     "start_time": "2018-07-25T01:05:58.687949Z"
    }
   },
   "outputs": [],
   "source": [
    "tensor_name = next(filter(lambda x: x.name == 'merge_1', model.layers))"
   ]
  },
  {
   "cell_type": "code",
   "execution_count": null,
   "metadata": {
    "collapsed": true
   },
   "outputs": [],
   "source": []
  },
  {
   "cell_type": "code",
   "execution_count": 40,
   "metadata": {},
   "outputs": [
    {
     "data": {
      "text/plain": [
       "array([[0.25250018, 0.31250244, 0.43499738],\n",
       "       [0.8849396 , 0.0538322 , 0.06122812],\n",
       "       [0.24710615, 0.16935235, 0.58354145],\n",
       "       [0.42179266, 0.33125114, 0.24695621],\n",
       "       [0.8215561 , 0.08922405, 0.08921982]], dtype=float32)"
      ]
     },
     "execution_count": 40,
     "metadata": {},
     "output_type": "execute_result"
    }
   ],
   "source": [
    "p = model.predict([test_liv[:,None], test_edu[:,None], test_x], batch_size=256)\n",
    "p[:5]"
   ]
  },
  {
   "cell_type": "code",
   "execution_count": 41,
   "metadata": {},
   "outputs": [
    {
     "name": "stdout",
     "output_type": "stream",
     "text": [
      "_________________________________________________________________\n",
      "Layer (type)                 Output Shape              Param #   \n",
      "=================================================================\n",
      "merge_1 (Merge)              (None, 12)                0         \n",
      "_________________________________________________________________\n",
      "dense_4 (Dense)              (None, 12)                156       \n",
      "_________________________________________________________________\n",
      "activation_3 (Activation)    (None, 12)                0         \n",
      "_________________________________________________________________\n",
      "dense_5 (Dense)              (None, 3)                 39        \n",
      "_________________________________________________________________\n",
      "activation_4 (Activation)    (None, 3)                 0         \n",
      "=================================================================\n",
      "Total params: 247\n",
      "Trainable params: 247\n",
      "Non-trainable params: 0\n",
      "_________________________________________________________________\n"
     ]
    }
   ],
   "source": [
    "model.summary()"
   ]
  },
  {
   "cell_type": "markdown",
   "metadata": {},
   "source": [
    "## Another model with just numeric data"
   ]
  },
  {
   "cell_type": "code",
   "execution_count": 42,
   "metadata": {},
   "outputs": [
    {
     "name": "stderr",
     "output_type": "stream",
     "text": [
      "/usr/local/lib/python3.6/site-packages/ipykernel_launcher.py:4: UserWarning: Update your `Dense` call to the Keras 2 API: `Dense(units=3)`\n",
      "  after removing the cwd from sys.path.\n",
      "/usr/local/lib/python3.6/site-packages/keras/models.py:942: UserWarning: The `nb_epoch` argument in `fit` has been renamed `epochs`.\n",
      "  warnings.warn('The `nb_epoch` argument in `fit` '\n"
     ]
    },
    {
     "name": "stdout",
     "output_type": "stream",
     "text": [
      "Epoch 1/100\n",
      "1325/1325 [==============================] - 0s 282us/step - loss: 0.6501 - acc: 0.6629\n",
      "Epoch 2/100\n",
      "1325/1325 [==============================] - 0s 60us/step - loss: 0.6353 - acc: 0.6667\n",
      "Epoch 3/100\n",
      "1325/1325 [==============================] - 0s 55us/step - loss: 0.6303 - acc: 0.6667\n",
      "Epoch 4/100\n",
      "1325/1325 [==============================] - 0s 58us/step - loss: 0.6274 - acc: 0.6667\n",
      "Epoch 5/100\n",
      "1325/1325 [==============================] - 0s 47us/step - loss: 0.6254 - acc: 0.6667\n",
      "Epoch 6/100\n",
      "1325/1325 [==============================] - 0s 47us/step - loss: 0.6240 - acc: 0.6664\n",
      "Epoch 7/100\n",
      "1325/1325 [==============================] - 0s 50us/step - loss: 0.6228 - acc: 0.6664: 0s - loss: 0.6237 - acc: 0.666\n",
      "Epoch 8/100\n",
      "1325/1325 [==============================] - 0s 48us/step - loss: 0.6219 - acc: 0.6664\n",
      "Epoch 9/100\n",
      "1325/1325 [==============================] - 0s 53us/step - loss: 0.6212 - acc: 0.6662\n",
      "Epoch 10/100\n",
      "1325/1325 [==============================] - 0s 51us/step - loss: 0.6207 - acc: 0.6659\n",
      "Epoch 11/100\n",
      "1325/1325 [==============================] - 0s 50us/step - loss: 0.6202 - acc: 0.6662\n",
      "Epoch 12/100\n",
      "1325/1325 [==============================] - 0s 46us/step - loss: 0.6198 - acc: 0.6662\n",
      "Epoch 13/100\n",
      "1325/1325 [==============================] - 0s 47us/step - loss: 0.6194 - acc: 0.6659\n",
      "Epoch 14/100\n",
      "1325/1325 [==============================] - 0s 47us/step - loss: 0.6191 - acc: 0.6659\n",
      "Epoch 15/100\n",
      "1325/1325 [==============================] - 0s 49us/step - loss: 0.6187 - acc: 0.6662\n",
      "Epoch 16/100\n",
      "1325/1325 [==============================] - 0s 47us/step - loss: 0.6184 - acc: 0.6662\n",
      "Epoch 17/100\n",
      "1325/1325 [==============================] - 0s 47us/step - loss: 0.6181 - acc: 0.6662\n",
      "Epoch 18/100\n",
      "1325/1325 [==============================] - 0s 48us/step - loss: 0.6178 - acc: 0.6662\n",
      "Epoch 19/100\n",
      "1325/1325 [==============================] - 0s 47us/step - loss: 0.6175 - acc: 0.6659\n",
      "Epoch 20/100\n",
      "1325/1325 [==============================] - 0s 48us/step - loss: 0.6171 - acc: 0.6662\n",
      "Epoch 21/100\n",
      "1325/1325 [==============================] - 0s 45us/step - loss: 0.6168 - acc: 0.6662\n",
      "Epoch 22/100\n",
      "1325/1325 [==============================] - 0s 45us/step - loss: 0.6165 - acc: 0.6664\n",
      "Epoch 23/100\n",
      "1325/1325 [==============================] - 0s 44us/step - loss: 0.6162 - acc: 0.6659\n",
      "Epoch 24/100\n",
      "1325/1325 [==============================] - 0s 46us/step - loss: 0.6159 - acc: 0.6662\n",
      "Epoch 25/100\n",
      "1325/1325 [==============================] - 0s 44us/step - loss: 0.6156 - acc: 0.6662\n",
      "Epoch 26/100\n",
      "1325/1325 [==============================] - 0s 45us/step - loss: 0.6153 - acc: 0.6662\n",
      "Epoch 27/100\n",
      "1325/1325 [==============================] - 0s 47us/step - loss: 0.6150 - acc: 0.6662\n",
      "Epoch 28/100\n",
      "1325/1325 [==============================] - 0s 44us/step - loss: 0.6147 - acc: 0.6664\n",
      "Epoch 29/100\n",
      "1325/1325 [==============================] - 0s 43us/step - loss: 0.6145 - acc: 0.6662\n",
      "Epoch 30/100\n",
      "1325/1325 [==============================] - 0s 50us/step - loss: 0.6142 - acc: 0.6662\n",
      "Epoch 31/100\n",
      "1325/1325 [==============================] - 0s 49us/step - loss: 0.6139 - acc: 0.6662\n",
      "Epoch 32/100\n",
      "1325/1325 [==============================] - 0s 43us/step - loss: 0.6136 - acc: 0.6662\n",
      "Epoch 33/100\n",
      "1325/1325 [==============================] - 0s 46us/step - loss: 0.6133 - acc: 0.6662\n",
      "Epoch 34/100\n",
      "1325/1325 [==============================] - 0s 60us/step - loss: 0.6130 - acc: 0.6662\n",
      "Epoch 35/100\n",
      "1325/1325 [==============================] - 0s 46us/step - loss: 0.6127 - acc: 0.6659\n",
      "Epoch 36/100\n",
      "1325/1325 [==============================] - 0s 44us/step - loss: 0.6123 - acc: 0.6659\n",
      "Epoch 37/100\n",
      "1325/1325 [==============================] - 0s 45us/step - loss: 0.6120 - acc: 0.6662\n",
      "Epoch 38/100\n",
      "1325/1325 [==============================] - 0s 44us/step - loss: 0.6117 - acc: 0.6664\n",
      "Epoch 39/100\n",
      "1325/1325 [==============================] - 0s 46us/step - loss: 0.6114 - acc: 0.6664\n",
      "Epoch 40/100\n",
      "1325/1325 [==============================] - 0s 47us/step - loss: 0.6111 - acc: 0.6662\n",
      "Epoch 41/100\n",
      "1325/1325 [==============================] - 0s 51us/step - loss: 0.6108 - acc: 0.6664\n",
      "Epoch 42/100\n",
      "1325/1325 [==============================] - 0s 57us/step - loss: 0.6105 - acc: 0.6662\n",
      "Epoch 43/100\n",
      "1325/1325 [==============================] - 0s 57us/step - loss: 0.6102 - acc: 0.6662\n",
      "Epoch 44/100\n",
      "1325/1325 [==============================] - 0s 55us/step - loss: 0.6099 - acc: 0.6662\n",
      "Epoch 45/100\n",
      "1325/1325 [==============================] - 0s 49us/step - loss: 0.6096 - acc: 0.6657\n",
      "Epoch 46/100\n",
      "1325/1325 [==============================] - 0s 46us/step - loss: 0.6094 - acc: 0.6659\n",
      "Epoch 47/100\n",
      "1325/1325 [==============================] - 0s 45us/step - loss: 0.6091 - acc: 0.6654\n",
      "Epoch 48/100\n",
      "1325/1325 [==============================] - 0s 47us/step - loss: 0.6089 - acc: 0.6657\n",
      "Epoch 49/100\n",
      "1325/1325 [==============================] - 0s 50us/step - loss: 0.6086 - acc: 0.6657\n",
      "Epoch 50/100\n",
      "1325/1325 [==============================] - 0s 53us/step - loss: 0.6083 - acc: 0.6662\n",
      "Epoch 51/100\n",
      "1325/1325 [==============================] - 0s 53us/step - loss: 0.6081 - acc: 0.6659\n",
      "Epoch 52/100\n",
      "1325/1325 [==============================] - 0s 50us/step - loss: 0.6078 - acc: 0.6654\n",
      "Epoch 53/100\n",
      "1325/1325 [==============================] - 0s 45us/step - loss: 0.6076 - acc: 0.6652\n",
      "Epoch 54/100\n",
      "1325/1325 [==============================] - 0s 46us/step - loss: 0.6074 - acc: 0.6654\n",
      "Epoch 55/100\n",
      "1325/1325 [==============================] - 0s 45us/step - loss: 0.6072 - acc: 0.6654\n",
      "Epoch 56/100\n",
      "1325/1325 [==============================] - 0s 48us/step - loss: 0.6069 - acc: 0.6657\n",
      "Epoch 57/100\n",
      "1325/1325 [==============================] - 0s 47us/step - loss: 0.6067 - acc: 0.6677\n",
      "Epoch 58/100\n",
      "1325/1325 [==============================] - 0s 45us/step - loss: 0.6065 - acc: 0.6672\n",
      "Epoch 59/100\n",
      "1325/1325 [==============================] - 0s 46us/step - loss: 0.6063 - acc: 0.6679\n",
      "Epoch 60/100\n",
      "1325/1325 [==============================] - 0s 48us/step - loss: 0.6061 - acc: 0.6672\n",
      "Epoch 61/100\n",
      "1325/1325 [==============================] - 0s 52us/step - loss: 0.6059 - acc: 0.6697\n",
      "Epoch 62/100\n",
      "1325/1325 [==============================] - 0s 49us/step - loss: 0.6057 - acc: 0.6699\n",
      "Epoch 63/100\n",
      "1325/1325 [==============================] - 0s 42us/step - loss: 0.6055 - acc: 0.6704\n",
      "Epoch 64/100\n",
      "1325/1325 [==============================] - 0s 45us/step - loss: 0.6054 - acc: 0.6732\n",
      "Epoch 65/100\n",
      "1325/1325 [==============================] - 0s 46us/step - loss: 0.6052 - acc: 0.6742\n",
      "Epoch 66/100\n",
      "1325/1325 [==============================] - 0s 46us/step - loss: 0.6050 - acc: 0.6745\n",
      "Epoch 67/100\n",
      "1325/1325 [==============================] - 0s 45us/step - loss: 0.6048 - acc: 0.6747\n",
      "Epoch 68/100\n",
      "1325/1325 [==============================] - 0s 53us/step - loss: 0.6046 - acc: 0.6742\n",
      "Epoch 69/100\n",
      "1325/1325 [==============================] - 0s 51us/step - loss: 0.6045 - acc: 0.6752\n",
      "Epoch 70/100\n",
      "1325/1325 [==============================] - 0s 48us/step - loss: 0.6043 - acc: 0.6742\n",
      "Epoch 71/100\n",
      "1325/1325 [==============================] - 0s 49us/step - loss: 0.6042 - acc: 0.6745\n",
      "Epoch 72/100\n",
      "1325/1325 [==============================] - 0s 44us/step - loss: 0.6040 - acc: 0.6742\n",
      "Epoch 73/100\n",
      "1325/1325 [==============================] - 0s 45us/step - loss: 0.6039 - acc: 0.6750\n",
      "Epoch 74/100\n",
      "1325/1325 [==============================] - 0s 44us/step - loss: 0.6037 - acc: 0.6742\n",
      "Epoch 75/100\n",
      "1325/1325 [==============================] - 0s 46us/step - loss: 0.6035 - acc: 0.6747\n",
      "Epoch 76/100\n",
      "1325/1325 [==============================] - 0s 43us/step - loss: 0.6034 - acc: 0.6750\n",
      "Epoch 77/100\n",
      "1325/1325 [==============================] - 0s 43us/step - loss: 0.6032 - acc: 0.6757\n",
      "Epoch 78/100\n",
      "1325/1325 [==============================] - 0s 46us/step - loss: 0.6031 - acc: 0.6757\n",
      "Epoch 79/100\n",
      "1325/1325 [==============================] - 0s 45us/step - loss: 0.6030 - acc: 0.6755\n",
      "Epoch 80/100\n",
      "1325/1325 [==============================] - 0s 49us/step - loss: 0.6028 - acc: 0.6752\n",
      "Epoch 81/100\n",
      "1325/1325 [==============================] - 0s 47us/step - loss: 0.6027 - acc: 0.6755\n",
      "Epoch 82/100\n",
      "1325/1325 [==============================] - 0s 45us/step - loss: 0.6025 - acc: 0.6745\n",
      "Epoch 83/100\n",
      "1325/1325 [==============================] - 0s 48us/step - loss: 0.6024 - acc: 0.6747\n",
      "Epoch 84/100\n",
      "1325/1325 [==============================] - 0s 49us/step - loss: 0.6023 - acc: 0.6747\n",
      "Epoch 85/100\n",
      "1325/1325 [==============================] - 0s 52us/step - loss: 0.6022 - acc: 0.6757\n",
      "Epoch 86/100\n",
      "1325/1325 [==============================] - 0s 51us/step - loss: 0.6020 - acc: 0.6767\n",
      "Epoch 87/100\n",
      "1325/1325 [==============================] - 0s 50us/step - loss: 0.6019 - acc: 0.6765\n",
      "Epoch 88/100\n",
      "1325/1325 [==============================] - 0s 48us/step - loss: 0.6018 - acc: 0.6772\n",
      "Epoch 89/100\n",
      "1325/1325 [==============================] - 0s 47us/step - loss: 0.6017 - acc: 0.6775\n",
      "Epoch 90/100\n",
      "1325/1325 [==============================] - 0s 42us/step - loss: 0.6015 - acc: 0.6790\n",
      "Epoch 91/100\n",
      "1325/1325 [==============================] - 0s 44us/step - loss: 0.6014 - acc: 0.6785\n",
      "Epoch 92/100\n",
      "1325/1325 [==============================] - 0s 43us/step - loss: 0.6013 - acc: 0.6790\n",
      "Epoch 93/100\n",
      "1325/1325 [==============================] - 0s 44us/step - loss: 0.6012 - acc: 0.6795\n",
      "Epoch 94/100\n",
      "1325/1325 [==============================] - 0s 45us/step - loss: 0.6011 - acc: 0.6795\n",
      "Epoch 95/100\n",
      "1325/1325 [==============================] - 0s 48us/step - loss: 0.6010 - acc: 0.6808\n",
      "Epoch 96/100\n",
      "1325/1325 [==============================] - 0s 53us/step - loss: 0.6009 - acc: 0.6803\n",
      "Epoch 97/100\n",
      "1325/1325 [==============================] - 0s 51us/step - loss: 0.6008 - acc: 0.6815\n",
      "Epoch 98/100\n",
      "1325/1325 [==============================] - 0s 48us/step - loss: 0.6007 - acc: 0.6810\n",
      "Epoch 99/100\n",
      "1325/1325 [==============================] - 0s 45us/step - loss: 0.6006 - acc: 0.6805\n",
      "Epoch 100/100\n",
      "1325/1325 [==============================] - 0s 43us/step - loss: 0.6005 - acc: 0.6808\n"
     ]
    },
    {
     "data": {
      "text/plain": [
       "<keras.callbacks.History at 0x11b9c0ac8>"
      ]
     },
     "execution_count": 42,
     "metadata": {},
     "output_type": "execute_result"
    }
   ],
   "source": [
    "model = Sequential()\n",
    "model.add(Dense(4, input_dim=train_x.shape[1]))\n",
    "model.add(Activation('relu'))\n",
    "model.add(Dense(output_dim=3))\n",
    "model.add(Activation('softmax'))\n",
    "\n",
    "model.compile(optimizer='adagrad', loss='binary_crossentropy', metrics=['accuracy'])\n",
    "model.fit(train_x, train_y, nb_epoch=100)"
   ]
  },
  {
   "cell_type": "code",
   "execution_count": null,
   "metadata": {
    "collapsed": true
   },
   "outputs": [],
   "source": [
    "model.evaluate(test_x,test_y,batch_size=256)"
   ]
  },
  {
   "cell_type": "code",
   "execution_count": 76,
   "metadata": {
    "ExecuteTime": {
     "end_time": "2018-07-25T03:28:14.157400Z",
     "start_time": "2018-07-25T03:28:14.057513Z"
    }
   },
   "outputs": [
    {
     "ename": "AttributeError",
     "evalue": "'Sequential' object has no attribute 'shape'",
     "output_type": "error",
     "traceback": [
      "\u001b[0;31m---------------------------------------------------------------------------\u001b[0m",
      "\u001b[0;31mAttributeError\u001b[0m                            Traceback (most recent call last)",
      "\u001b[0;32m<ipython-input-76-c1760bf553e7>\u001b[0m in \u001b[0;36m<module>\u001b[0;34m()\u001b[0m\n\u001b[0;32m----> 1\u001b[0;31m \u001b[0mdense_x\u001b[0m\u001b[0;34m.\u001b[0m\u001b[0mshape\u001b[0m\u001b[0;34m\u001b[0m\u001b[0m\n\u001b[0m",
      "\u001b[0;31mAttributeError\u001b[0m: 'Sequential' object has no attribute 'shape'"
     ]
    }
   ],
   "source": [
    "dense_x.shape"
   ]
  },
  {
   "cell_type": "code",
   "execution_count": 80,
   "metadata": {
    "ExecuteTime": {
     "end_time": "2018-07-25T03:35:26.962409Z",
     "start_time": "2018-07-25T03:35:26.938981Z"
    }
   },
   "outputs": [
    {
     "ename": "NameError",
     "evalue": "name 'x_shape' is not defined",
     "output_type": "error",
     "traceback": [
      "\u001b[0;31m---------------------------------------------------------------------------\u001b[0m",
      "\u001b[0;31mNameError\u001b[0m                                 Traceback (most recent call last)",
      "\u001b[0;32m<ipython-input-80-21757c90095a>\u001b[0m in \u001b[0;36m<module>\u001b[0;34m()\u001b[0m\n\u001b[0;32m----> 1\u001b[0;31m \u001b[0mx_shape\u001b[0m\u001b[0;34m\u001b[0m\u001b[0m\n\u001b[0m",
      "\u001b[0;31mNameError\u001b[0m: name 'x_shape' is not defined"
     ]
    }
   ],
   "source": [
    "x_shape"
   ]
  },
  {
   "cell_type": "code",
   "execution_count": 83,
   "metadata": {
    "ExecuteTime": {
     "end_time": "2018-07-25T03:36:26.149479Z",
     "start_time": "2018-07-25T03:36:26.022910Z"
    }
   },
   "outputs": [
    {
     "name": "stderr",
     "output_type": "stream",
     "text": [
      "/Users/home/anaconda3/envs/ML/lib/python3.5/site-packages/ipykernel_launcher.py:10: UserWarning: Update your `Dense` call to the Keras 2 API: `Dense(units=4)`\n",
      "  # Remove the CWD from sys.path while we load stuff.\n"
     ]
    }
   ],
   "source": [
    "from keras import models\n",
    "from keras import layers\n",
    "model = Sequential()\n",
    "model.add(layers.Dense(32, input_dim=x.shape[1]))\n",
    "model.add(Activation('relu'))\n",
    "# model.add(layers.Dense(32, activation='relu', input_dim=(784,)))\n",
    "model.add(layers.Dense(10, activation='relu'))\n",
    "model.add(layers.Dense(2, activation='relu'))\n",
    "model.add(layers.Dense(32, activation='relu'))\n",
    "model.add(Dense(output_dim=x.shape[1]))\n",
    "model.add(Activation('relu'))"
   ]
  },
  {
   "cell_type": "code",
   "execution_count": 84,
   "metadata": {
    "ExecuteTime": {
     "end_time": "2018-07-25T03:36:27.866839Z",
     "start_time": "2018-07-25T03:36:27.852912Z"
    }
   },
   "outputs": [
    {
     "name": "stdout",
     "output_type": "stream",
     "text": [
      "_________________________________________________________________\n",
      "Layer (type)                 Output Shape              Param #   \n",
      "=================================================================\n",
      "dense_13 (Dense)             (None, 32)                160       \n",
      "_________________________________________________________________\n",
      "activation_8 (Activation)    (None, 32)                0         \n",
      "_________________________________________________________________\n",
      "dense_14 (Dense)             (None, 10)                330       \n",
      "_________________________________________________________________\n",
      "dense_15 (Dense)             (None, 2)                 22        \n",
      "_________________________________________________________________\n",
      "dense_16 (Dense)             (None, 32)                96        \n",
      "_________________________________________________________________\n",
      "dense_17 (Dense)             (None, 4)                 132       \n",
      "_________________________________________________________________\n",
      "activation_9 (Activation)    (None, 4)                 0         \n",
      "=================================================================\n",
      "Total params: 740\n",
      "Trainable params: 740\n",
      "Non-trainable params: 0\n",
      "_________________________________________________________________\n"
     ]
    }
   ],
   "source": [
    "model.summary()"
   ]
  },
  {
   "cell_type": "code",
   "execution_count": 88,
   "metadata": {
    "ExecuteTime": {
     "end_time": "2018-07-25T03:39:40.405856Z",
     "start_time": "2018-07-25T03:39:39.212988Z"
    }
   },
   "outputs": [
    {
     "name": "stderr",
     "output_type": "stream",
     "text": [
      "/Users/home/anaconda3/envs/ML/lib/python3.5/site-packages/keras/models.py:981: UserWarning: The `nb_epoch` argument in `fit` has been renamed `epochs`.\n",
      "  warnings.warn('The `nb_epoch` argument in `fit` '\n"
     ]
    },
    {
     "name": "stdout",
     "output_type": "stream",
     "text": [
      "Epoch 1/5\n",
      " - 0s - loss: 4.1084 - mean_absolute_error: 1.0040\n",
      "Epoch 2/5\n",
      " - 0s - loss: 4.0882 - mean_absolute_error: 1.0087\n",
      "Epoch 3/5\n",
      " - 0s - loss: 4.0879 - mean_absolute_error: 1.0062\n",
      "Epoch 4/5\n",
      " - 0s - loss: 4.0911 - mean_absolute_error: 0.9971\n",
      "Epoch 5/5\n",
      " - 0s - loss: 4.0945 - mean_absolute_error: 1.0168\n"
     ]
    },
    {
     "data": {
      "text/plain": [
       "<keras.callbacks.History at 0x1a2d3b2518>"
      ]
     },
     "execution_count": 88,
     "metadata": {},
     "output_type": "execute_result"
    }
   ],
   "source": [
    "model.compile(optimizer='rmsprop', loss='mse', metrics=['mae'])\n",
    "model.fit(train_x, train_x, nb_epoch=5, verbose=2)"
   ]
  },
  {
   "cell_type": "code",
   "execution_count": 89,
   "metadata": {
    "ExecuteTime": {
     "end_time": "2018-07-25T03:39:42.039179Z",
     "start_time": "2018-07-25T03:39:41.985457Z"
    }
   },
   "outputs": [
    {
     "data": {
      "text/plain": [
       "[array([[ -3.72540563e-01,   8.10257420e-02,   3.89190078e-01,\n",
       "           3.64130586e-01,  -4.40263152e-02,   2.58416444e-01,\n",
       "          -1.00387391e-02,  -1.10920250e-01,   3.73262405e-01,\n",
       "          -2.33875260e-01,   1.13800898e-01,  -9.32230949e-02,\n",
       "           2.94514280e-02,  -2.55522132e-01,   4.65636313e-01,\n",
       "          -2.71893710e-01,  -3.35407257e-01,   5.44135226e-04,\n",
       "          -1.83203965e-01,   4.28307205e-01,   1.99259073e-01,\n",
       "          -9.72418860e-02,   4.70039435e-02,  -2.78498590e-01,\n",
       "          -2.75303900e-01,  -2.72001386e-01,   1.31765440e-01,\n",
       "          -2.54290462e-01,   2.96056241e-01,   1.61228135e-01,\n",
       "          -5.77920582e-05,   1.49517357e-01],\n",
       "        [  2.29180932e-01,  -1.23666003e-01,   2.06723407e-01,\n",
       "           3.84799391e-01,  -3.16018224e-01,  -3.71262163e-01,\n",
       "           5.73465191e-02,   3.20272207e-01,   2.04473823e-01,\n",
       "           7.37781823e-02,  -6.92881122e-02,   1.52130365e-01,\n",
       "          -7.41906285e-01,  -2.29496107e-01,  -1.11399733e-01,\n",
       "          -3.28380525e-01,  -2.88801402e-01,  -2.02116385e-01,\n",
       "          -2.38080278e-01,   2.39636317e-01,   1.55114732e-03,\n",
       "           2.71486282e-01,  -5.54429233e-01,   1.57402575e-01,\n",
       "           4.58583236e-02,   5.11054993e-02,  -1.73921049e-01,\n",
       "          -3.56021047e-01,  -7.89896399e-02,   3.31631899e-01,\n",
       "          -5.62652983e-02,  -3.05367380e-01],\n",
       "        [ -1.34981096e-01,  -5.32142639e-01,  -2.16199964e-01,\n",
       "          -1.20978616e-01,  -8.08443427e-02,  -1.11665092e-01,\n",
       "          -4.12005574e-01,   9.80409980e-02,  -1.18935540e-01,\n",
       "           3.12029421e-02,   2.52521753e-01,  -4.64358032e-02,\n",
       "           1.38298556e-01,   1.45733118e-01,  -1.89087749e-01,\n",
       "          -2.82002032e-01,  -2.37709537e-01,  -4.52422559e-01,\n",
       "           8.73941481e-02,   9.35103819e-02,   3.23212706e-02,\n",
       "           2.42525548e-01,  -9.00896788e-02,  -3.17361444e-01,\n",
       "           1.42326653e-02,  -3.33357394e-01,   2.34018236e-01,\n",
       "           3.94566357e-01,  -4.09915775e-01,  -1.94407825e-03,\n",
       "          -3.86675686e-01,   1.27027884e-01],\n",
       "        [  2.16410339e-01,  -9.88075137e-02,  -7.45399296e-02,\n",
       "          -1.29696324e-01,  -1.87477767e-02,   2.43957527e-02,\n",
       "          -3.01591784e-01,  -3.37985516e-01,   8.19081441e-02,\n",
       "           1.92854166e-01,  -2.64627099e-01,   5.07082641e-02,\n",
       "          -3.39424312e-01,  -1.56771570e-01,   2.75958985e-01,\n",
       "          -1.99990764e-01,  -2.66344607e-01,  -4.08255756e-01,\n",
       "          -1.84299260e-01,  -1.68153793e-01,   4.72117700e-02,\n",
       "           1.16951905e-01,  -1.96465626e-01,  -1.37003422e-01,\n",
       "          -2.45808989e-01,  -1.80425271e-01,   1.43120959e-01,\n",
       "           3.68942142e-01,   3.10152709e-01,  -2.67275751e-01,\n",
       "          -4.58002090e-02,  -7.43336082e-02]], dtype=float32),\n",
       " array([ 0.        , -0.20516835, -0.04342535, -0.01069075,  0.        ,\n",
       "        -0.03858038, -0.17687353,  0.        ,  0.00795458,  0.        ,\n",
       "         0.00819088,  0.        , -0.03563711,  0.        ,  0.00558213,\n",
       "         0.        ,  0.        , -0.08453313,  0.        ,  0.00510198,\n",
       "        -0.03499897, -0.03023474, -0.10994367,  0.        ,  0.        ,\n",
       "         0.        ,  0.00879216,  0.        , -0.0162049 , -0.01167736,\n",
       "        -0.00422722, -0.00121175], dtype=float32),\n",
       " array([[  1.18482381e-01,  -3.01368326e-01,   2.52792150e-01,\n",
       "          -2.25623384e-01,   2.66658396e-01,  -2.35176340e-01,\n",
       "           3.46411616e-01,  -2.03729272e-02,   1.21361852e-01,\n",
       "          -6.00653887e-03],\n",
       "        [ -1.05123341e-01,  -3.10574174e-01,  -1.40837163e-01,\n",
       "           1.30301073e-01,   7.67645240e-02,  -2.89083142e-02,\n",
       "          -7.25905299e-02,   3.17680448e-01,  -2.29763478e-01,\n",
       "          -5.52960634e-02],\n",
       "        [  2.44355574e-01,   8.87993574e-02,   9.84234214e-02,\n",
       "           3.20436805e-01,  -1.86176263e-02,   2.39928975e-03,\n",
       "           3.43137294e-01,  -1.47562891e-01,  -1.96633160e-01,\n",
       "           1.39902323e-01],\n",
       "        [ -2.68544167e-01,  -8.97890627e-02,   5.91914952e-02,\n",
       "           2.36060575e-01,   2.69569278e-01,   2.90028274e-01,\n",
       "           4.17172350e-02,   2.37921506e-01,  -5.17598987e-02,\n",
       "          -1.36106819e-01],\n",
       "        [ -8.29193294e-02,  -2.97816038e-01,  -3.17167163e-01,\n",
       "           9.98965800e-02,  -4.68808711e-02,   3.27948183e-01,\n",
       "          -1.45727456e-01,   2.32742131e-02,   1.65787488e-01,\n",
       "           7.88896382e-02],\n",
       "        [ -2.49519557e-01,  -8.79435539e-02,  -8.21193159e-02,\n",
       "          -5.21591399e-03,  -2.00502917e-01,   2.29352683e-01,\n",
       "          -2.95850724e-01,  -2.84779012e-01,   3.18243176e-01,\n",
       "           5.54899871e-02],\n",
       "        [ -2.65484512e-01,   2.26647466e-01,   2.54176587e-01,\n",
       "           2.82779604e-01,   2.75520533e-01,  -1.00882508e-01,\n",
       "           9.44827422e-02,   2.37958580e-01,   2.16904312e-01,\n",
       "           1.07478231e-01],\n",
       "        [  2.33620793e-01,   1.45909041e-01,  -3.44331205e-01,\n",
       "           2.49706715e-01,   1.56521797e-04,   4.78833020e-02,\n",
       "           1.08502984e-01,  -2.54936665e-01,  -2.41521433e-01,\n",
       "          -1.46323830e-01],\n",
       "        [  1.76197916e-01,  -2.66572505e-01,   2.56249994e-01,\n",
       "           2.72591174e-01,   1.22487299e-01,   3.17074358e-01,\n",
       "           3.35322469e-01,  -2.46926457e-01,  -3.38536918e-01,\n",
       "           1.35220617e-01],\n",
       "        [  6.54110610e-02,  -1.47978365e-02,   2.16572016e-01,\n",
       "           3.72034311e-03,   2.92440146e-01,   8.90353620e-02,\n",
       "          -8.67033899e-02,   1.79915816e-01,  -9.08555686e-02,\n",
       "          -3.21332306e-01],\n",
       "        [  2.70915627e-01,  -3.69627774e-02,   3.01600903e-01,\n",
       "           4.51466531e-01,   1.72625616e-01,   3.02021235e-01,\n",
       "          -3.26348811e-01,   3.11699837e-01,   2.95311600e-01,\n",
       "           3.12633783e-01],\n",
       "        [ -3.02964687e-01,   2.98927516e-01,   3.14999849e-01,\n",
       "          -3.37478161e-01,   6.35601878e-02,  -1.10025555e-01,\n",
       "           2.42663056e-01,  -2.69492030e-01,   1.31059617e-01,\n",
       "          -3.04727048e-01],\n",
       "        [  4.11710553e-02,  -2.86914080e-01,   2.74441093e-01,\n",
       "          -9.97131914e-02,   1.08634308e-01,  -2.10110158e-01,\n",
       "          -2.34947547e-01,  -5.05493879e-02,   1.32288724e-01,\n",
       "          -6.15712106e-02],\n",
       "        [  7.35531747e-02,   8.72316360e-02,  -1.02388054e-01,\n",
       "           2.10735589e-01,  -8.06625187e-02,  -8.50573778e-02,\n",
       "           3.28673214e-01,   2.59704024e-01,   1.75084621e-01,\n",
       "          -2.23954394e-01],\n",
       "        [  4.64266568e-01,  -3.50568593e-02,  -4.11069989e-02,\n",
       "           1.21062137e-01,   3.77064675e-01,   1.99337557e-01,\n",
       "          -6.80168122e-02,  -3.17228258e-01,  -3.72945756e-01,\n",
       "          -1.29391536e-01],\n",
       "        [  2.19994158e-01,  -9.55997109e-02,   2.96949774e-01,\n",
       "          -3.74794722e-01,   1.11741155e-01,  -3.58711302e-01,\n",
       "          -3.13025355e-01,   3.75699908e-01,   1.44361705e-01,\n",
       "           1.48460180e-01],\n",
       "        [  5.42296469e-02,   4.48279083e-02,   3.47929209e-01,\n",
       "           2.11083978e-01,  -2.93403715e-01,   6.06753826e-02,\n",
       "           2.86097527e-02,  -2.30583787e-01,  -1.51657030e-01,\n",
       "           3.65226954e-01],\n",
       "        [  1.78337932e-01,   3.72874111e-01,  -2.07915947e-01,\n",
       "          -1.81229249e-01,  -3.27930778e-01,  -3.22650343e-01,\n",
       "           2.33560666e-01,   3.07455927e-01,  -2.30750591e-01,\n",
       "          -1.75873205e-01],\n",
       "        [ -2.20792472e-01,  -3.28997910e-01,   8.12825561e-03,\n",
       "           1.98649377e-01,  -5.56074977e-02,   3.15444201e-01,\n",
       "           1.83694959e-02,  -4.48253751e-03,  -8.97720456e-02,\n",
       "           3.16715747e-01],\n",
       "        [  3.31707984e-01,  -3.21039885e-01,   5.08704782e-02,\n",
       "           1.44366249e-01,   2.19023377e-01,   2.08899379e-01,\n",
       "          -1.59609720e-01,   2.17652172e-01,   2.17360556e-02,\n",
       "          -3.27507168e-01],\n",
       "        [  2.02933569e-02,  -1.99633405e-01,  -3.26905936e-01,\n",
       "           4.49540503e-02,   3.69025052e-01,   1.21932641e-01,\n",
       "           3.47609580e-01,  -7.41226077e-02,  -2.63478279e-01,\n",
       "           3.61939520e-01],\n",
       "        [ -3.68268974e-02,  -1.97463632e-02,   1.11281872e-03,\n",
       "          -1.12797186e-01,   3.96999791e-02,  -1.71307921e-01,\n",
       "          -3.09183508e-01,   3.06589752e-01,   7.20640421e-02,\n",
       "           2.06763774e-01],\n",
       "        [ -1.20963238e-01,  -2.66596019e-01,  -1.29960611e-01,\n",
       "          -1.69161960e-01,   1.21681206e-01,  -1.74906820e-01,\n",
       "          -4.45152074e-01,   2.43153960e-01,   1.26804084e-01,\n",
       "           1.06874198e-01],\n",
       "        [ -6.64591491e-02,  -9.73929465e-02,   3.71955663e-01,\n",
       "          -2.27567494e-01,  -3.03415775e-01,  -1.25026166e-01,\n",
       "          -2.71453172e-01,   3.51150423e-01,  -2.26027459e-01,\n",
       "          -3.77882451e-01],\n",
       "        [  3.21056634e-01,   1.92419887e-02,   1.03382289e-01,\n",
       "           2.91595131e-01,  -2.44153023e-01,  -1.09045476e-01,\n",
       "           2.71661848e-01,   2.49916404e-01,  -1.83528095e-01,\n",
       "          -1.94167554e-01],\n",
       "        [ -1.29814148e-02,   2.94546515e-01,  -3.49398941e-01,\n",
       "          -2.14298069e-01,  -3.88088524e-02,   1.94611102e-01,\n",
       "          -2.98813879e-01,  -4.71704006e-02,   3.55429202e-01,\n",
       "          -6.55955970e-02],\n",
       "        [  1.83704734e-01,  -1.20107919e-01,  -3.58375996e-01,\n",
       "           3.04068953e-01,   4.19584930e-01,  -1.01768501e-01,\n",
       "           5.91306351e-02,  -1.29066676e-01,  -3.25752199e-02,\n",
       "          -2.66527534e-01],\n",
       "        [  1.48005515e-01,   2.43956476e-01,   2.71427840e-01,\n",
       "           2.40495771e-01,   8.60141218e-02,  -3.74874473e-01,\n",
       "          -3.49079072e-02,   1.84900761e-02,   1.21075481e-01,\n",
       "          -2.95719445e-01],\n",
       "        [  4.72252697e-01,   1.01980925e-01,  -3.53988975e-01,\n",
       "          -2.86667556e-01,  -2.28995174e-01,   4.05990273e-01,\n",
       "          -3.39727372e-01,  -1.68037370e-01,  -9.62851942e-02,\n",
       "           1.08795494e-01],\n",
       "        [  1.70983881e-01,  -1.09758019e-01,  -3.32826942e-01,\n",
       "          -1.16051346e-01,   1.73206210e-01,   4.10541028e-01,\n",
       "           2.55400509e-01,  -4.90279198e-02,  -3.13572347e-01,\n",
       "          -3.06782454e-01],\n",
       "        [  3.34314674e-01,   1.71967596e-01,   3.20176750e-01,\n",
       "           2.35452890e-01,   2.17837065e-01,   7.01267570e-02,\n",
       "          -6.87184930e-02,   3.42248946e-01,   1.51664019e-04,\n",
       "          -1.74098954e-01],\n",
       "        [  1.62451342e-01,  -7.64886439e-02,  -2.30267763e-01,\n",
       "           6.19502403e-02,  -2.70149261e-02,   3.59070688e-01,\n",
       "          -3.92489105e-01,  -1.55672222e-01,   1.35451764e-01,\n",
       "           1.99440926e-01]], dtype=float32),\n",
       " array([ 0.00860572,  0.        ,  0.        ,  0.00023123,  0.00263708,\n",
       "         0.00943301,  0.05933969,  0.        ,  0.        ,  0.        ], dtype=float32),\n",
       " array([[ 0.78039122,  0.19635408],\n",
       "        [ 0.43071991, -0.4289622 ],\n",
       "        [ 0.00364757,  0.66340441],\n",
       "        [ 0.52379292,  0.60113788],\n",
       "        [ 0.5906893 , -0.78521085],\n",
       "        [ 0.49684832, -0.0168067 ],\n",
       "        [-0.51777399, -0.60381448],\n",
       "        [-0.59452093, -0.1009348 ],\n",
       "        [ 0.57910627, -0.0094434 ],\n",
       "        [ 0.4590202 ,  0.38889247]], dtype=float32),\n",
       " array([ 0.00705091, -0.08838835], dtype=float32),\n",
       " array([[ 0.00102373, -0.11113471,  0.42840323, -0.29243523,  0.1612667 ,\n",
       "         -0.24553674, -0.41069952,  0.4291648 ,  0.28906715,  0.256082  ,\n",
       "          0.2605702 , -0.25719479, -0.28282496, -0.14256993, -0.08154669,\n",
       "          0.108082  ,  0.20802084, -0.06951207, -0.26005593,  0.16900864,\n",
       "          0.45667845,  0.36793837, -0.13577616, -0.00096678, -0.30884835,\n",
       "         -0.02843344,  0.38843715,  0.22312987,  0.23724997, -0.15030676,\n",
       "          0.10865833, -0.25501549],\n",
       "        [-0.16778021,  0.01059788,  0.0373988 ,  0.03278691, -0.43321556,\n",
       "         -0.21490759,  0.29576138,  0.08427241, -0.17583081, -0.33667728,\n",
       "          0.19089881,  0.12491265,  0.40860614,  0.25516054, -0.02680522,\n",
       "         -0.06366515, -0.09447523,  0.24768481,  0.22662142, -0.43990135,\n",
       "          0.02684503,  0.43510541, -0.37139368,  0.22840141, -0.31158179,\n",
       "         -0.380606  ,  0.43179017, -0.0381952 , -0.29075977,  0.25850514,\n",
       "          0.25899076, -0.066255  ]], dtype=float32),\n",
       " array([ -7.73116946e-02,   0.00000000e+00,   3.31290141e-02,\n",
       "          0.00000000e+00,  -2.98899591e-01,   0.00000000e+00,\n",
       "          0.00000000e+00,   5.05417511e-02,  -3.87874424e-01,\n",
       "          3.38613754e-05,   8.25440362e-02,   0.00000000e+00,\n",
       "          0.00000000e+00,   0.00000000e+00,   0.00000000e+00,\n",
       "         -1.01004139e-01,  -1.29083142e-01,   0.00000000e+00,\n",
       "          0.00000000e+00,   1.66220427e-01,   6.43597618e-02,\n",
       "          1.83881477e-01,   0.00000000e+00,  -4.86467741e-02,\n",
       "          0.00000000e+00,   0.00000000e+00,  -2.53758252e-01,\n",
       "          3.26959938e-02,   8.25755894e-02,   0.00000000e+00,\n",
       "         -2.91582830e-02,   0.00000000e+00], dtype=float32),\n",
       " array([[-0.00892256,  0.12024641, -0.01989396, -0.20707925],\n",
       "        [-0.08606291,  0.17954254,  0.29331821, -0.30176911],\n",
       "        [ 0.47121304, -0.2343559 ,  0.06570558,  0.09682261],\n",
       "        [-0.19885206, -0.13449445, -0.29956967, -0.28432804],\n",
       "        [-0.12452766, -0.10770813, -0.29650679, -0.41011834],\n",
       "        [ 0.05534011,  0.16342032, -0.00197491, -0.39935228],\n",
       "        [ 0.21673912,  0.15166169,  0.27850783, -0.08344412],\n",
       "        [ 0.29569751, -0.09051126,  0.07878997, -0.04099613],\n",
       "        [-0.09682996, -0.16663392, -0.37794417, -0.04610047],\n",
       "        [ 0.49731386,  0.12739128, -0.04531378,  0.0584529 ],\n",
       "        [-0.17089647,  0.22385502,  0.13556536,  0.07207081],\n",
       "        [ 0.24226505, -0.05164871,  0.07071605,  0.4067083 ],\n",
       "        [ 0.30455071, -0.17618774, -0.11709297, -0.21833588],\n",
       "        [ 0.31766742,  0.37042898, -0.08514747,  0.37501186],\n",
       "        [-0.18472822, -0.27226192, -0.2994149 , -0.13077551],\n",
       "        [ 0.26207504, -0.28477907, -0.21367627, -0.11257354],\n",
       "        [ 0.37684324, -0.40280578, -0.38811278,  0.35277528],\n",
       "        [ 0.39802504, -0.32807723, -0.0299992 , -0.10401198],\n",
       "        [-0.12040886, -0.03170499,  0.31250954,  0.00473627],\n",
       "        [-0.1491522 , -0.10345998,  0.23935223, -0.15237439],\n",
       "        [ 0.39187878, -0.07854792,  0.13987704,  0.08880877],\n",
       "        [ 0.08260469, -0.08150542,  0.1148117 , -0.29435414],\n",
       "        [-0.05257884, -0.34546739,  0.00232238, -0.37289962],\n",
       "        [-0.19121327, -0.15692604, -0.38693023,  0.16414042],\n",
       "        [-0.23395711, -0.25738463, -0.08691981, -0.09093934],\n",
       "        [ 0.1748755 ,  0.33651179,  0.03354958, -0.11235777],\n",
       "        [ 0.06444646,  0.34047729, -0.10535613,  0.25742561],\n",
       "        [-0.20359807, -0.12675181,  0.07474525, -0.37062666],\n",
       "        [ 0.45997202,  0.12346435,  0.22156753,  0.08730587],\n",
       "        [-0.28395611,  0.13706666, -0.40036669,  0.01287273],\n",
       "        [ 0.10207388, -0.0666514 , -0.02804353,  0.13739653],\n",
       "        [-0.06702018, -0.23618294,  0.3651647 , -0.10001963]], dtype=float32),\n",
       " array([ 0.01334327,  0.        ,  0.34709051, -0.01726494], dtype=float32)]"
      ]
     },
     "execution_count": 89,
     "metadata": {},
     "output_type": "execute_result"
    }
   ],
   "source": [
    "model.get_weights()"
   ]
  },
  {
   "cell_type": "code",
   "execution_count": 90,
   "metadata": {
    "ExecuteTime": {
     "end_time": "2018-07-25T03:40:19.177080Z",
     "start_time": "2018-07-25T03:40:19.170151Z"
    }
   },
   "outputs": [
    {
     "data": {
      "text/plain": [
       "(1473, 4)"
      ]
     },
     "execution_count": 90,
     "metadata": {},
     "output_type": "execute_result"
    }
   ],
   "source": [
    "x.shape"
   ]
  },
  {
   "cell_type": "code",
   "execution_count": 93,
   "metadata": {
    "ExecuteTime": {
     "end_time": "2018-07-25T03:42:01.527636Z",
     "start_time": "2018-07-25T03:42:01.515922Z"
    }
   },
   "outputs": [
    {
     "data": {
      "text/plain": [
       "10"
      ]
     },
     "execution_count": 93,
     "metadata": {},
     "output_type": "execute_result"
    }
   ],
   "source": [
    "len(model.get_weights())"
   ]
  },
  {
   "cell_type": "code",
   "execution_count": 97,
   "metadata": {
    "ExecuteTime": {
     "end_time": "2018-07-25T03:43:33.856953Z",
     "start_time": "2018-07-25T03:43:33.825108Z"
    }
   },
   "outputs": [
    {
     "name": "stdout",
     "output_type": "stream",
     "text": [
      "0 (4, 32)\n",
      "1 (32,)\n",
      "2 (32, 10)\n",
      "3 (10,)\n",
      "4 (10, 2)\n",
      "5 (2,)\n",
      "6 (2, 32)\n",
      "7 (32,)\n",
      "8 (32, 4)\n",
      "9 (4,)\n"
     ]
    },
    {
     "data": {
      "text/plain": [
       "[None, None, None, None, None, None, None, None, None, None]"
      ]
     },
     "execution_count": 97,
     "metadata": {},
     "output_type": "execute_result"
    }
   ],
   "source": [
    "[print(i, model.get_weights()[i].shape) for i in range(len(model.get_weights()))]"
   ]
  },
  {
   "cell_type": "code",
   "execution_count": null,
   "metadata": {
    "collapsed": true
   },
   "outputs": [],
   "source": []
  }
 ],
 "metadata": {
  "anaconda-cloud": {},
  "kernelspec": {
   "display_name": "Python 3",
   "language": "python",
   "name": "python3"
  },
  "language_info": {
   "codemirror_mode": {
    "name": "ipython",
    "version": 3
   },
   "file_extension": ".py",
   "mimetype": "text/x-python",
   "name": "python",
   "nbconvert_exporter": "python",
   "pygments_lexer": "ipython3",
   "version": "3.5.4"
  },
  "latex_envs": {
   "bibliofile": "biblio.bib",
   "cite_by": "apalike",
   "current_citInitial": 1,
   "eqLabelWithNumbers": true,
   "eqNumInitial": 0
  }
 },
 "nbformat": 4,
 "nbformat_minor": 1
}
